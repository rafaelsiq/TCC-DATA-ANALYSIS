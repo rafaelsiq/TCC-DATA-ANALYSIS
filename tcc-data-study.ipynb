{
 "cells": [
  {
   "cell_type": "markdown",
   "metadata": {},
   "source": [
    "Todos os imports usados no notebook"
   ]
  },
  {
   "cell_type": "code",
   "execution_count": 82,
   "metadata": {},
   "outputs": [],
   "source": [
    "from pymongo import MongoClient\n",
    "import pandas as pd\n",
    "import matplotlib.pyplot as plt\n",
    "import seaborn as sns\n",
    "from sklearn.model_selection import train_test_split\n",
    "from sklearn.linear_model import LogisticRegression\n",
    "from sklearn.metrics import accuracy_score, classification_report\n",
    "from sklearn.model_selection import cross_val_score"
   ]
  },
  {
   "cell_type": "markdown",
   "metadata": {},
   "source": [
    "1. Preparação dos Dados (ETL)\n",
    "1.1. Conectar ao MongoDB:\n",
    "\n",
    "Utilize pymongo para se conectar ao MongoDB e acessar as coleções."
   ]
  },
  {
   "cell_type": "code",
   "execution_count": 83,
   "metadata": {},
   "outputs": [],
   "source": [
    "client = MongoClient('mongodb://localhost:27017/')\n",
    "db = client['tcc-data-analysis']"
   ]
  },
  {
   "cell_type": "markdown",
   "metadata": {},
   "source": [
    "1.2. Extrair Dados:\n",
    "\n",
    "Extraia os dados das coleções necessárias (commits, react_prs, react_bugs, commit_diffs)."
   ]
  },
  {
   "cell_type": "code",
   "execution_count": 84,
   "metadata": {},
   "outputs": [],
   "source": [
    "commits = db['commits'].find()\n",
    "prs = db['react_prs'].find()\n",
    "bugs = db['react_bugs'].find()\n",
    "diffs = db['commit_diffs'].find()\n",
    "commits_prs = db['commits_prs'].find()"
   ]
  },
  {
   "cell_type": "markdown",
   "metadata": {},
   "source": [
    "1.3. Limpeza e Transformação:\n",
    "\n",
    "Normalize e limpe os dados. Crie um DataFrame para cada coleção com as informações relevantes."
   ]
  },
  {
   "cell_type": "code",
   "execution_count": 85,
   "metadata": {},
   "outputs": [],
   "source": [
    "_commits = list(commits)\n",
    "_diffs = list(diffs)\n",
    "commits_df = pd.json_normalize(_commits)\n",
    "diffs_df = pd.json_normalize(_diffs)\n",
    "commits_df.rename(columns={'sha': 'commit_sha'}, inplace=True)\n",
    "diffs_df.rename(columns={'commit': 'commit_sha'}, inplace=True)\n"
   ]
  },
  {
   "cell_type": "code",
   "execution_count": 86,
   "metadata": {},
   "outputs": [],
   "source": [
    "combined_df = pd.merge(commits_df, diffs_df, on='commit_sha', how='inner')"
   ]
  },
  {
   "cell_type": "code",
   "execution_count": null,
   "metadata": {},
   "outputs": [],
   "source": []
  },
  {
   "cell_type": "code",
   "execution_count": 87,
   "metadata": {},
   "outputs": [
    {
     "name": "stdout",
     "output_type": "stream",
     "text": [
      "Index(['_id_x', 'commit_sha', 'node_id', 'url', 'html_url', 'comments_url',\n",
      "       'parents', 'commit.author.name', 'commit.author.email',\n",
      "       'commit.author.date', 'commit.committer.name', 'commit.committer.email',\n",
      "       'commit.committer.date', 'commit.message', 'commit.tree.sha',\n",
      "       'commit.tree.url', 'commit.url', 'commit.comment_count',\n",
      "       'commit.verification.verified', 'commit.verification.reason',\n",
      "       'commit.verification.signature', 'commit.verification.payload',\n",
      "       'author.login', 'author.id', 'author.node_id', 'author.avatar_url',\n",
      "       'author.gravatar_id', 'author.url', 'author.html_url',\n",
      "       'author.followers_url', 'author.following_url', 'author.gists_url',\n",
      "       'author.starred_url', 'author.subscriptions_url',\n",
      "       'author.organizations_url', 'author.repos_url', 'author.events_url',\n",
      "       'author.received_events_url', 'author.type', 'author.site_admin',\n",
      "       'committer.login', 'committer.id', 'committer.node_id',\n",
      "       'committer.avatar_url', 'committer.gravatar_id', 'committer.url',\n",
      "       'committer.html_url', 'committer.followers_url',\n",
      "       'committer.following_url', 'committer.gists_url',\n",
      "       'committer.starred_url', 'committer.subscriptions_url',\n",
      "       'committer.organizations_url', 'committer.repos_url',\n",
      "       'committer.events_url', 'committer.received_events_url',\n",
      "       'committer.type', 'committer.site_admin', 'files', 'stats.total',\n",
      "       'stats.additions', 'stats.deletions', 'author', 'committer', '_id_y',\n",
      "       'diff'],\n",
      "      dtype='object')\n",
      "                      _id_x                                commit_sha  \\\n",
      "0  66ca0e66468e494019c22478  bf859705b55a8ccaedbed8546cd4d9c6c003bf62   \n",
      "1  66ca0e66468e494019c22479  fcc2182641b628cd6fcf46d2ea59c2cc05f7ddb8   \n",
      "2  66ca0e66468e494019c2247a  a753a326ad77145e4d8eb6a44e40758d82869669   \n",
      "3  66ca0e66468e494019c2247b  ad57e661f49f1a340a437a597bef2214c017eabb   \n",
      "4  66ca0e66468e494019c2247c  a86d279c462938c78dd08de5b011fbe6e553546a   \n",
      "\n",
      "                                             node_id  \\\n",
      "0  C_kwDOAJy2KtoAKGJmODU5NzA1YjU1YThjY2FlZGJlZDg1...   \n",
      "1  C_kwDOAJy2KtoAKGZjYzIxODI2NDFiNjI4Y2Q2ZmNmNDZk...   \n",
      "2  C_kwDOAJy2KtoAKGE3NTNhMzI2YWQ3NzE0NWU0ZDhlYjZh...   \n",
      "3  C_kwDOAJy2KtoAKGFkNTdlNjYxZjQ5ZjFhMzQwYTQzN2E1...   \n",
      "4  C_kwDOAJy2KtoAKGE4NmQyNzljNDYyOTM4Yzc4ZGQwOGRl...   \n",
      "\n",
      "                                                 url  \\\n",
      "0  https://api.github.com/repos/facebook/react/co...   \n",
      "1  https://api.github.com/repos/facebook/react/co...   \n",
      "2  https://api.github.com/repos/facebook/react/co...   \n",
      "3  https://api.github.com/repos/facebook/react/co...   \n",
      "4  https://api.github.com/repos/facebook/react/co...   \n",
      "\n",
      "                                            html_url  \\\n",
      "0  https://github.com/facebook/react/commit/bf859...   \n",
      "1  https://github.com/facebook/react/commit/fcc21...   \n",
      "2  https://github.com/facebook/react/commit/a753a...   \n",
      "3  https://github.com/facebook/react/commit/ad57e...   \n",
      "4  https://github.com/facebook/react/commit/a86d2...   \n",
      "\n",
      "                                        comments_url  \\\n",
      "0  https://api.github.com/repos/facebook/react/co...   \n",
      "1  https://api.github.com/repos/facebook/react/co...   \n",
      "2  https://api.github.com/repos/facebook/react/co...   \n",
      "3  https://api.github.com/repos/facebook/react/co...   \n",
      "4  https://api.github.com/repos/facebook/react/co...   \n",
      "\n",
      "                                             parents commit.author.name  \\\n",
      "0  [{'sha': 'fcc2182641b628cd6fcf46d2ea59c2cc05f7...         Joe Savona   \n",
      "1  [{'sha': 'a753a326ad77145e4d8eb6a44e40758d8286...         Joe Savona   \n",
      "2  [{'sha': 'ad57e661f49f1a340a437a597bef2214c017...         Joe Savona   \n",
      "3  [{'sha': 'a86d279c462938c78dd08de5b011fbe6e553...         Joe Savona   \n",
      "4  [{'sha': '3175056935ed76ea3790c6e956fedd354587...         Joe Savona   \n",
      "\n",
      "  commit.author.email    commit.author.date  ... committer.type  \\\n",
      "0    joesavona@fb.com  2023-12-20T21:52:43Z  ...           User   \n",
      "1    joesavona@fb.com  2023-12-20T21:52:42Z  ...           User   \n",
      "2    joesavona@fb.com  2023-12-20T21:52:41Z  ...           User   \n",
      "3    joesavona@fb.com  2023-12-20T21:52:41Z  ...           User   \n",
      "4    joesavona@fb.com  2023-12-20T21:52:40Z  ...           User   \n",
      "\n",
      "  committer.site_admin files stats.total stats.additions stats.deletions  \\\n",
      "0                False   NaN         NaN             NaN             NaN   \n",
      "1                False   NaN         NaN             NaN             NaN   \n",
      "2                False   NaN         NaN             NaN             NaN   \n",
      "3                False   NaN         NaN             NaN             NaN   \n",
      "4                False   NaN         NaN             NaN             NaN   \n",
      "\n",
      "  author  committer                     _id_y  \\\n",
      "0    NaN        NaN  66ca12ce968c4806ed19afa0   \n",
      "1    NaN        NaN  66ca12ce968c4806ed19afa1   \n",
      "2    NaN        NaN  66ca12ce968c4806ed19afa2   \n",
      "3    NaN        NaN  66ca12ce968c4806ed19afa3   \n",
      "4    NaN        NaN  66ca12ce968c4806ed19afa4   \n",
      "\n",
      "                                                diff  \n",
      "0  diff --git a/compiler/packages/babel-plugin-re...  \n",
      "1  diff --git a/compiler/packages/babel-plugin-re...  \n",
      "2  diff --git a/compiler/packages/babel-plugin-re...  \n",
      "3  diff --git a/compiler/packages/babel-plugin-re...  \n",
      "4  diff --git a/compiler/packages/babel-plugin-re...  \n",
      "\n",
      "[5 rows x 66 columns]\n"
     ]
    }
   ],
   "source": [
    "combined_df = combined_df.dropna(subset=['diff'])"
   ]
  },
  {
   "cell_type": "markdown",
   "metadata": {},
   "source": [
    "1.4. Integração de Dados:\n",
    "\n",
    "Combine dados de diferentes coleções conforme necessário. Por exemplo, associe commits com PRs e bugs usando o hash do commit."
   ]
  },
  {
   "cell_type": "code",
   "execution_count": 88,
   "metadata": {},
   "outputs": [],
   "source": [
    "pd_commit = pd.DataFrame((combined_df))\n",
    "pd_issues = pd.DataFrame((bugs))\n",
    "pd_prs = pd.DataFrame((prs))\n",
    "pd_commits_prs = pd.DataFrame((commits_prs))"
   ]
  },
  {
   "cell_type": "code",
   "execution_count": 89,
   "metadata": {},
   "outputs": [
    {
     "name": "stdout",
     "output_type": "stream",
     "text": [
      "pd_commit Index(['_id_x', 'commit_sha', 'node_id', 'url', 'html_url', 'comments_url',\n",
      "       'parents', 'commit.author.name', 'commit.author.email',\n",
      "       'commit.author.date', 'commit.committer.name', 'commit.committer.email',\n",
      "       'commit.committer.date', 'commit.message', 'commit.tree.sha',\n",
      "       'commit.tree.url', 'commit.url', 'commit.comment_count',\n",
      "       'commit.verification.verified', 'commit.verification.reason',\n",
      "       'commit.verification.signature', 'commit.verification.payload',\n",
      "       'author.login', 'author.id', 'author.node_id', 'author.avatar_url',\n",
      "       'author.gravatar_id', 'author.url', 'author.html_url',\n",
      "       'author.followers_url', 'author.following_url', 'author.gists_url',\n",
      "       'author.starred_url', 'author.subscriptions_url',\n",
      "       'author.organizations_url', 'author.repos_url', 'author.events_url',\n",
      "       'author.received_events_url', 'author.type', 'author.site_admin',\n",
      "       'committer.login', 'committer.id', 'committer.node_id',\n",
      "       'committer.avatar_url', 'committer.gravatar_id', 'committer.url',\n",
      "       'committer.html_url', 'committer.followers_url',\n",
      "       'committer.following_url', 'committer.gists_url',\n",
      "       'committer.starred_url', 'committer.subscriptions_url',\n",
      "       'committer.organizations_url', 'committer.repos_url',\n",
      "       'committer.events_url', 'committer.received_events_url',\n",
      "       'committer.type', 'committer.site_admin', 'files', 'stats.total',\n",
      "       'stats.additions', 'stats.deletions', 'author', 'committer', '_id_y',\n",
      "       'diff'],\n",
      "      dtype='object')\n",
      "pd_issues Index(['_id', 'url', 'repository_url', 'labels_url', 'comments_url',\n",
      "       'events_url', 'html_url', 'id', 'node_id', 'number', 'title', 'user',\n",
      "       'labels', 'state', 'locked', 'assignee', 'assignees', 'milestone',\n",
      "       'comments', 'created_at', 'updated_at', 'closed_at',\n",
      "       'author_association', 'active_lock_reason', 'draft', 'pull_request',\n",
      "       'body', 'reactions', 'timeline_url', 'performed_via_github_app',\n",
      "       'state_reason'],\n",
      "      dtype='object')\n",
      "pd_prs Index(['_id', 'url', 'id', 'node_id', 'html_url', 'diff_url', 'patch_url',\n",
      "       'issue_url', 'number', 'state', 'locked', 'title', 'user', 'body',\n",
      "       'created_at', 'updated_at', 'closed_at', 'merged_at',\n",
      "       'merge_commit_sha', 'assignee', 'assignees', 'requested_reviewers',\n",
      "       'requested_teams', 'labels', 'milestone', 'draft', 'commits_url',\n",
      "       'review_comments_url', 'review_comment_url', 'comments_url',\n",
      "       'statuses_url', 'head', 'base', '_links', 'author_association',\n",
      "       'auto_merge', 'active_lock_reason'],\n",
      "      dtype='object')\n",
      "pd_commits_prs Index(['_id', 'commit_hash', 'pull_number'], dtype='object')\n"
     ]
    }
   ],
   "source": [
    "print('pd_commit', pd_commit.columns)\n",
    "print('pd_issues', pd_issues.columns)\n",
    "print('pd_prs', pd_prs.columns)\n",
    "print('pd_commits_prs', pd_commits_prs.columns)\n"
   ]
  },
  {
   "cell_type": "markdown",
   "metadata": {},
   "source": [
    "2. Análise Exploratória de Dados (EDA)\n",
    "2.1. Visualização:\n",
    "\n",
    "Utilize matplotlib e seaborn para visualizar distribuições e padrões."
   ]
  },
  {
   "cell_type": "code",
   "execution_count": 90,
   "metadata": {},
   "outputs": [],
   "source": [
    "#sns.histplot(combined_df['date'])\n",
    "#plt.show()"
   ]
  },
  {
   "cell_type": "markdown",
   "metadata": {},
   "source": [
    "2.2. Análise Estatística:\n",
    "\n",
    "Analise a correlação entre features e a presença de bugs.\n",
    "3. Engenharia de Recursos\n",
    "3.1. Extração de Features:\n",
    "\n",
    "Extraia features úteis dos dados, como a frequência de commits de um autor, a complexidade dos diffs, e a presença de palavras-chave nos commits."
   ]
  },
  {
   "cell_type": "code",
   "execution_count": 91,
   "metadata": {},
   "outputs": [
    {
     "ename": "KeyError",
     "evalue": "'message'",
     "output_type": "error",
     "traceback": [
      "\u001b[1;31m---------------------------------------------------------------------------\u001b[0m",
      "\u001b[1;31mKeyError\u001b[0m                                  Traceback (most recent call last)",
      "File \u001b[1;32m~\\AppData\\Local\\Packages\\PythonSoftwareFoundation.Python.3.12_qbz5n2kfra8p0\\LocalCache\\local-packages\\Python312\\site-packages\\pandas\\core\\indexes\\base.py:3805\u001b[0m, in \u001b[0;36mIndex.get_loc\u001b[1;34m(self, key)\u001b[0m\n\u001b[0;32m   3804\u001b[0m \u001b[38;5;28;01mtry\u001b[39;00m:\n\u001b[1;32m-> 3805\u001b[0m     \u001b[38;5;28;01mreturn\u001b[39;00m \u001b[38;5;28;43mself\u001b[39;49m\u001b[38;5;241;43m.\u001b[39;49m\u001b[43m_engine\u001b[49m\u001b[38;5;241;43m.\u001b[39;49m\u001b[43mget_loc\u001b[49m\u001b[43m(\u001b[49m\u001b[43mcasted_key\u001b[49m\u001b[43m)\u001b[49m\n\u001b[0;32m   3806\u001b[0m \u001b[38;5;28;01mexcept\u001b[39;00m \u001b[38;5;167;01mKeyError\u001b[39;00m \u001b[38;5;28;01mas\u001b[39;00m err:\n",
      "File \u001b[1;32mindex.pyx:167\u001b[0m, in \u001b[0;36mpandas._libs.index.IndexEngine.get_loc\u001b[1;34m()\u001b[0m\n",
      "File \u001b[1;32mindex.pyx:196\u001b[0m, in \u001b[0;36mpandas._libs.index.IndexEngine.get_loc\u001b[1;34m()\u001b[0m\n",
      "File \u001b[1;32mpandas\\\\_libs\\\\hashtable_class_helper.pxi:7081\u001b[0m, in \u001b[0;36mpandas._libs.hashtable.PyObjectHashTable.get_item\u001b[1;34m()\u001b[0m\n",
      "File \u001b[1;32mpandas\\\\_libs\\\\hashtable_class_helper.pxi:7089\u001b[0m, in \u001b[0;36mpandas._libs.hashtable.PyObjectHashTable.get_item\u001b[1;34m()\u001b[0m\n",
      "\u001b[1;31mKeyError\u001b[0m: 'message'",
      "\nThe above exception was the direct cause of the following exception:\n",
      "\u001b[1;31mKeyError\u001b[0m                                  Traceback (most recent call last)",
      "Cell \u001b[1;32mIn[91], line 1\u001b[0m\n\u001b[1;32m----> 1\u001b[0m combined_df[\u001b[38;5;124m'\u001b[39m\u001b[38;5;124mmessage_length\u001b[39m\u001b[38;5;124m'\u001b[39m] \u001b[38;5;241m=\u001b[39m \u001b[43mcombined_df\u001b[49m\u001b[43m[\u001b[49m\u001b[38;5;124;43m'\u001b[39;49m\u001b[38;5;124;43mmessage\u001b[39;49m\u001b[38;5;124;43m'\u001b[39;49m\u001b[43m]\u001b[49m\u001b[38;5;241m.\u001b[39mapply(\u001b[38;5;28mlen\u001b[39m)\n",
      "File \u001b[1;32m~\\AppData\\Local\\Packages\\PythonSoftwareFoundation.Python.3.12_qbz5n2kfra8p0\\LocalCache\\local-packages\\Python312\\site-packages\\pandas\\core\\frame.py:4102\u001b[0m, in \u001b[0;36mDataFrame.__getitem__\u001b[1;34m(self, key)\u001b[0m\n\u001b[0;32m   4100\u001b[0m \u001b[38;5;28;01mif\u001b[39;00m \u001b[38;5;28mself\u001b[39m\u001b[38;5;241m.\u001b[39mcolumns\u001b[38;5;241m.\u001b[39mnlevels \u001b[38;5;241m>\u001b[39m \u001b[38;5;241m1\u001b[39m:\n\u001b[0;32m   4101\u001b[0m     \u001b[38;5;28;01mreturn\u001b[39;00m \u001b[38;5;28mself\u001b[39m\u001b[38;5;241m.\u001b[39m_getitem_multilevel(key)\n\u001b[1;32m-> 4102\u001b[0m indexer \u001b[38;5;241m=\u001b[39m \u001b[38;5;28;43mself\u001b[39;49m\u001b[38;5;241;43m.\u001b[39;49m\u001b[43mcolumns\u001b[49m\u001b[38;5;241;43m.\u001b[39;49m\u001b[43mget_loc\u001b[49m\u001b[43m(\u001b[49m\u001b[43mkey\u001b[49m\u001b[43m)\u001b[49m\n\u001b[0;32m   4103\u001b[0m \u001b[38;5;28;01mif\u001b[39;00m is_integer(indexer):\n\u001b[0;32m   4104\u001b[0m     indexer \u001b[38;5;241m=\u001b[39m [indexer]\n",
      "File \u001b[1;32m~\\AppData\\Local\\Packages\\PythonSoftwareFoundation.Python.3.12_qbz5n2kfra8p0\\LocalCache\\local-packages\\Python312\\site-packages\\pandas\\core\\indexes\\base.py:3812\u001b[0m, in \u001b[0;36mIndex.get_loc\u001b[1;34m(self, key)\u001b[0m\n\u001b[0;32m   3807\u001b[0m     \u001b[38;5;28;01mif\u001b[39;00m \u001b[38;5;28misinstance\u001b[39m(casted_key, \u001b[38;5;28mslice\u001b[39m) \u001b[38;5;129;01mor\u001b[39;00m (\n\u001b[0;32m   3808\u001b[0m         \u001b[38;5;28misinstance\u001b[39m(casted_key, abc\u001b[38;5;241m.\u001b[39mIterable)\n\u001b[0;32m   3809\u001b[0m         \u001b[38;5;129;01mand\u001b[39;00m \u001b[38;5;28many\u001b[39m(\u001b[38;5;28misinstance\u001b[39m(x, \u001b[38;5;28mslice\u001b[39m) \u001b[38;5;28;01mfor\u001b[39;00m x \u001b[38;5;129;01min\u001b[39;00m casted_key)\n\u001b[0;32m   3810\u001b[0m     ):\n\u001b[0;32m   3811\u001b[0m         \u001b[38;5;28;01mraise\u001b[39;00m InvalidIndexError(key)\n\u001b[1;32m-> 3812\u001b[0m     \u001b[38;5;28;01mraise\u001b[39;00m \u001b[38;5;167;01mKeyError\u001b[39;00m(key) \u001b[38;5;28;01mfrom\u001b[39;00m \u001b[38;5;21;01merr\u001b[39;00m\n\u001b[0;32m   3813\u001b[0m \u001b[38;5;28;01mexcept\u001b[39;00m \u001b[38;5;167;01mTypeError\u001b[39;00m:\n\u001b[0;32m   3814\u001b[0m     \u001b[38;5;66;03m# If we have a listlike key, _check_indexing_error will raise\u001b[39;00m\n\u001b[0;32m   3815\u001b[0m     \u001b[38;5;66;03m#  InvalidIndexError. Otherwise we fall through and re-raise\u001b[39;00m\n\u001b[0;32m   3816\u001b[0m     \u001b[38;5;66;03m#  the TypeError.\u001b[39;00m\n\u001b[0;32m   3817\u001b[0m     \u001b[38;5;28mself\u001b[39m\u001b[38;5;241m.\u001b[39m_check_indexing_error(key)\n",
      "\u001b[1;31mKeyError\u001b[0m: 'message'"
     ]
    }
   ],
   "source": [
    "combined_df['message_length'] = combined_df['message'].apply(len)"
   ]
  },
  {
   "cell_type": "markdown",
   "metadata": {},
   "source": [
    "3.2. Criação de Labels:\n",
    "\n",
    "Defina o rótulo (label) que indica se um commit causou um bug ou não. Combine informações de react_bugs para determinar isso.\n",
    "3.3. Preparação dos Dados:\n",
    "\n",
    "Divida os dados em conjuntos de treinamento e teste. Normalize os dados se necessário."
   ]
  },
  {
   "cell_type": "code",
   "execution_count": null,
   "metadata": {},
   "outputs": [
    {
     "ename": "KeyError",
     "evalue": "'bug'",
     "output_type": "error",
     "traceback": [
      "\u001b[1;31m---------------------------------------------------------------------------\u001b[0m",
      "\u001b[1;31mKeyError\u001b[0m                                  Traceback (most recent call last)",
      "File \u001b[1;32m~\\AppData\\Local\\Packages\\PythonSoftwareFoundation.Python.3.12_qbz5n2kfra8p0\\LocalCache\\local-packages\\Python312\\site-packages\\pandas\\core\\indexes\\base.py:3805\u001b[0m, in \u001b[0;36mIndex.get_loc\u001b[1;34m(self, key)\u001b[0m\n\u001b[0;32m   3804\u001b[0m \u001b[38;5;28;01mtry\u001b[39;00m:\n\u001b[1;32m-> 3805\u001b[0m     \u001b[38;5;28;01mreturn\u001b[39;00m \u001b[38;5;28;43mself\u001b[39;49m\u001b[38;5;241;43m.\u001b[39;49m\u001b[43m_engine\u001b[49m\u001b[38;5;241;43m.\u001b[39;49m\u001b[43mget_loc\u001b[49m\u001b[43m(\u001b[49m\u001b[43mcasted_key\u001b[49m\u001b[43m)\u001b[49m\n\u001b[0;32m   3806\u001b[0m \u001b[38;5;28;01mexcept\u001b[39;00m \u001b[38;5;167;01mKeyError\u001b[39;00m \u001b[38;5;28;01mas\u001b[39;00m err:\n",
      "File \u001b[1;32mindex.pyx:167\u001b[0m, in \u001b[0;36mpandas._libs.index.IndexEngine.get_loc\u001b[1;34m()\u001b[0m\n",
      "File \u001b[1;32mindex.pyx:196\u001b[0m, in \u001b[0;36mpandas._libs.index.IndexEngine.get_loc\u001b[1;34m()\u001b[0m\n",
      "File \u001b[1;32mpandas\\\\_libs\\\\hashtable_class_helper.pxi:7081\u001b[0m, in \u001b[0;36mpandas._libs.hashtable.PyObjectHashTable.get_item\u001b[1;34m()\u001b[0m\n",
      "File \u001b[1;32mpandas\\\\_libs\\\\hashtable_class_helper.pxi:7089\u001b[0m, in \u001b[0;36mpandas._libs.hashtable.PyObjectHashTable.get_item\u001b[1;34m()\u001b[0m\n",
      "\u001b[1;31mKeyError\u001b[0m: 'bug'",
      "\nThe above exception was the direct cause of the following exception:\n",
      "\u001b[1;31mKeyError\u001b[0m                                  Traceback (most recent call last)",
      "Cell \u001b[1;32mIn[81], line 2\u001b[0m\n\u001b[0;32m      1\u001b[0m X \u001b[38;5;241m=\u001b[39m combined_df[[\u001b[38;5;124m'\u001b[39m\u001b[38;5;124mmessage_length\u001b[39m\u001b[38;5;124m'\u001b[39m]]  \u001b[38;5;66;03m# Exemplo de feature\u001b[39;00m\n\u001b[1;32m----> 2\u001b[0m y \u001b[38;5;241m=\u001b[39m \u001b[43mcombined_df\u001b[49m\u001b[43m[\u001b[49m\u001b[38;5;124;43m'\u001b[39;49m\u001b[38;5;124;43mbug\u001b[39;49m\u001b[38;5;124;43m'\u001b[39;49m\u001b[43m]\u001b[49m  \u001b[38;5;66;03m# Supondo que você tenha um rótulo 'bug'\u001b[39;00m\n\u001b[0;32m      3\u001b[0m X_train, X_test, y_train, y_test \u001b[38;5;241m=\u001b[39m train_test_split(X, y, test_size\u001b[38;5;241m=\u001b[39m\u001b[38;5;241m0.3\u001b[39m, random_state\u001b[38;5;241m=\u001b[39m\u001b[38;5;241m42\u001b[39m)\n",
      "File \u001b[1;32m~\\AppData\\Local\\Packages\\PythonSoftwareFoundation.Python.3.12_qbz5n2kfra8p0\\LocalCache\\local-packages\\Python312\\site-packages\\pandas\\core\\frame.py:4102\u001b[0m, in \u001b[0;36mDataFrame.__getitem__\u001b[1;34m(self, key)\u001b[0m\n\u001b[0;32m   4100\u001b[0m \u001b[38;5;28;01mif\u001b[39;00m \u001b[38;5;28mself\u001b[39m\u001b[38;5;241m.\u001b[39mcolumns\u001b[38;5;241m.\u001b[39mnlevels \u001b[38;5;241m>\u001b[39m \u001b[38;5;241m1\u001b[39m:\n\u001b[0;32m   4101\u001b[0m     \u001b[38;5;28;01mreturn\u001b[39;00m \u001b[38;5;28mself\u001b[39m\u001b[38;5;241m.\u001b[39m_getitem_multilevel(key)\n\u001b[1;32m-> 4102\u001b[0m indexer \u001b[38;5;241m=\u001b[39m \u001b[38;5;28;43mself\u001b[39;49m\u001b[38;5;241;43m.\u001b[39;49m\u001b[43mcolumns\u001b[49m\u001b[38;5;241;43m.\u001b[39;49m\u001b[43mget_loc\u001b[49m\u001b[43m(\u001b[49m\u001b[43mkey\u001b[49m\u001b[43m)\u001b[49m\n\u001b[0;32m   4103\u001b[0m \u001b[38;5;28;01mif\u001b[39;00m is_integer(indexer):\n\u001b[0;32m   4104\u001b[0m     indexer \u001b[38;5;241m=\u001b[39m [indexer]\n",
      "File \u001b[1;32m~\\AppData\\Local\\Packages\\PythonSoftwareFoundation.Python.3.12_qbz5n2kfra8p0\\LocalCache\\local-packages\\Python312\\site-packages\\pandas\\core\\indexes\\base.py:3812\u001b[0m, in \u001b[0;36mIndex.get_loc\u001b[1;34m(self, key)\u001b[0m\n\u001b[0;32m   3807\u001b[0m     \u001b[38;5;28;01mif\u001b[39;00m \u001b[38;5;28misinstance\u001b[39m(casted_key, \u001b[38;5;28mslice\u001b[39m) \u001b[38;5;129;01mor\u001b[39;00m (\n\u001b[0;32m   3808\u001b[0m         \u001b[38;5;28misinstance\u001b[39m(casted_key, abc\u001b[38;5;241m.\u001b[39mIterable)\n\u001b[0;32m   3809\u001b[0m         \u001b[38;5;129;01mand\u001b[39;00m \u001b[38;5;28many\u001b[39m(\u001b[38;5;28misinstance\u001b[39m(x, \u001b[38;5;28mslice\u001b[39m) \u001b[38;5;28;01mfor\u001b[39;00m x \u001b[38;5;129;01min\u001b[39;00m casted_key)\n\u001b[0;32m   3810\u001b[0m     ):\n\u001b[0;32m   3811\u001b[0m         \u001b[38;5;28;01mraise\u001b[39;00m InvalidIndexError(key)\n\u001b[1;32m-> 3812\u001b[0m     \u001b[38;5;28;01mraise\u001b[39;00m \u001b[38;5;167;01mKeyError\u001b[39;00m(key) \u001b[38;5;28;01mfrom\u001b[39;00m \u001b[38;5;21;01merr\u001b[39;00m\n\u001b[0;32m   3813\u001b[0m \u001b[38;5;28;01mexcept\u001b[39;00m \u001b[38;5;167;01mTypeError\u001b[39;00m:\n\u001b[0;32m   3814\u001b[0m     \u001b[38;5;66;03m# If we have a listlike key, _check_indexing_error will raise\u001b[39;00m\n\u001b[0;32m   3815\u001b[0m     \u001b[38;5;66;03m#  InvalidIndexError. Otherwise we fall through and re-raise\u001b[39;00m\n\u001b[0;32m   3816\u001b[0m     \u001b[38;5;66;03m#  the TypeError.\u001b[39;00m\n\u001b[0;32m   3817\u001b[0m     \u001b[38;5;28mself\u001b[39m\u001b[38;5;241m.\u001b[39m_check_indexing_error(key)\n",
      "\u001b[1;31mKeyError\u001b[0m: 'bug'"
     ]
    }
   ],
   "source": [
    "X = combined_df[['message_length']]  # Exemplo de feature\n",
    "y = combined_df['bug']  # Supondo que você tenha um rótulo 'bug'\n",
    "X_train, X_test, y_train, y_test = train_test_split(X, y, test_size=0.3, random_state=42)\n"
   ]
  },
  {
   "cell_type": "markdown",
   "metadata": {},
   "source": [
    "4. Seleção e Treinamento do Modelo\n",
    "4.1. Escolher Modelos:\n",
    "\n",
    "Comece com modelos simples como Logistic Regression e Decision Trees. Avalie a performance usando métricas apropriadas (ex.: precisão, recall)."
   ]
  },
  {
   "cell_type": "code",
   "execution_count": null,
   "metadata": {},
   "outputs": [],
   "source": [
    "model = LogisticRegression()\n",
    "model.fit(X_train, y_train)\n",
    "y_pred = model.predict(X_test)\n",
    "\n",
    "print(accuracy_score(y_test, y_pred))\n",
    "print(classification_report(y_test, y_pred))\n"
   ]
  },
  {
   "cell_type": "markdown",
   "metadata": {},
   "source": [
    "4.2. Avaliação e Ajuste:\n",
    "\n",
    "Experimente diferentes modelos e ajuste hiperparâmetros para melhorar a performance.\n",
    "5. Validação e Implementação\n",
    "5.1. Validação Cruzada:\n",
    "\n",
    "Use validação cruzada para garantir que o modelo generaliza bem para novos dados."
   ]
  },
  {
   "cell_type": "code",
   "execution_count": null,
   "metadata": {},
   "outputs": [],
   "source": [
    "\n",
    "scores = cross_val_score(model, X, y, cv=5)\n",
    "print(scores.mean())\n"
   ]
  },
  {
   "cell_type": "markdown",
   "metadata": {},
   "source": [
    "5.2. Implementação:\n",
    "\n",
    "Implemente o modelo em um ambiente de produção e crie uma interface para interagir com o modelo.\n",
    "6. Monitoramento e Manutenção\n",
    "6.1. Monitoramento:\n",
    "\n",
    "Monitore o desempenho do modelo e ajuste conforme necessário.\n",
    "6.2. Atualização:\n",
    "\n",
    "Atualize o modelo com novos dados regularmente para manter a precisão."
   ]
  }
 ],
 "metadata": {
  "kernelspec": {
   "display_name": "Python 3",
   "language": "python",
   "name": "python3"
  },
  "language_info": {
   "codemirror_mode": {
    "name": "ipython",
    "version": 3
   },
   "file_extension": ".py",
   "mimetype": "text/x-python",
   "name": "python",
   "nbconvert_exporter": "python",
   "pygments_lexer": "ipython3",
   "version": "3.12.5"
  }
 },
 "nbformat": 4,
 "nbformat_minor": 2
}
